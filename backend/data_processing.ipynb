{
 "cells": [
  {
   "cell_type": "markdown",
   "metadata": {},
   "source": [
    "Demograph"
   ]
  },
  {
   "cell_type": "code",
   "execution_count": null,
   "metadata": {},
   "outputs": [
    {
     "ename": "",
     "evalue": "",
     "output_type": "error",
     "traceback": [
      "\u001b[1;31mRunning cells with 'Python 3.9.4 ('vcp')' requires ipykernel package.\n",
      "Run the following command to install 'ipykernel' into the Python environment. \n",
      "Command: 'd:/virtualenvs/vcp/vcp/Scripts/python.exe -m pip install ipykernel -U --force-reinstall'"
     ]
    }
   ],
   "source": [
    "11 mod 12"
   ]
  },
  {
   "cell_type": "code",
   "execution_count": 1,
   "metadata": {},
   "outputs": [],
   "source": [
    "import pandas as pd\n",
    "import matplotlib.pyplot as plt\n",
    "%matplotlib inline \n",
    "import numpy as np"
   ]
  },
  {
   "cell_type": "code",
   "execution_count": 2,
   "metadata": {},
   "outputs": [
    {
     "data": {
      "text/html": [
       "<div>\n",
       "<style scoped>\n",
       "    .dataframe tbody tr th:only-of-type {\n",
       "        vertical-align: middle;\n",
       "    }\n",
       "\n",
       "    .dataframe tbody tr th {\n",
       "        vertical-align: top;\n",
       "    }\n",
       "\n",
       "    .dataframe thead th {\n",
       "        text-align: right;\n",
       "    }\n",
       "</style>\n",
       "<table border=\"1\" class=\"dataframe\">\n",
       "  <thead>\n",
       "    <tr style=\"text-align: right;\">\n",
       "      <th></th>\n",
       "      <th>participantId</th>\n",
       "      <th>householdSize</th>\n",
       "      <th>haveKids</th>\n",
       "      <th>age</th>\n",
       "      <th>educationLevel</th>\n",
       "      <th>interestGroup</th>\n",
       "      <th>joviality</th>\n",
       "    </tr>\n",
       "  </thead>\n",
       "  <tbody>\n",
       "    <tr>\n",
       "      <th>0</th>\n",
       "      <td>0</td>\n",
       "      <td>3</td>\n",
       "      <td>True</td>\n",
       "      <td>36</td>\n",
       "      <td>HighSchoolOrCollege</td>\n",
       "      <td>H</td>\n",
       "      <td>0.001627</td>\n",
       "    </tr>\n",
       "    <tr>\n",
       "      <th>1</th>\n",
       "      <td>1</td>\n",
       "      <td>3</td>\n",
       "      <td>True</td>\n",
       "      <td>25</td>\n",
       "      <td>HighSchoolOrCollege</td>\n",
       "      <td>B</td>\n",
       "      <td>0.328087</td>\n",
       "    </tr>\n",
       "    <tr>\n",
       "      <th>2</th>\n",
       "      <td>2</td>\n",
       "      <td>3</td>\n",
       "      <td>True</td>\n",
       "      <td>35</td>\n",
       "      <td>HighSchoolOrCollege</td>\n",
       "      <td>A</td>\n",
       "      <td>0.393470</td>\n",
       "    </tr>\n",
       "    <tr>\n",
       "      <th>3</th>\n",
       "      <td>3</td>\n",
       "      <td>3</td>\n",
       "      <td>True</td>\n",
       "      <td>21</td>\n",
       "      <td>HighSchoolOrCollege</td>\n",
       "      <td>I</td>\n",
       "      <td>0.138063</td>\n",
       "    </tr>\n",
       "    <tr>\n",
       "      <th>4</th>\n",
       "      <td>4</td>\n",
       "      <td>3</td>\n",
       "      <td>True</td>\n",
       "      <td>43</td>\n",
       "      <td>Bachelors</td>\n",
       "      <td>H</td>\n",
       "      <td>0.857397</td>\n",
       "    </tr>\n",
       "  </tbody>\n",
       "</table>\n",
       "</div>"
      ],
      "text/plain": [
       "   participantId  householdSize  haveKids  age       educationLevel  \\\n",
       "0              0              3      True   36  HighSchoolOrCollege   \n",
       "1              1              3      True   25  HighSchoolOrCollege   \n",
       "2              2              3      True   35  HighSchoolOrCollege   \n",
       "3              3              3      True   21  HighSchoolOrCollege   \n",
       "4              4              3      True   43            Bachelors   \n",
       "\n",
       "  interestGroup  joviality  \n",
       "0             H   0.001627  \n",
       "1             B   0.328087  \n",
       "2             A   0.393470  \n",
       "3             I   0.138063  \n",
       "4             H   0.857397  "
      ]
     },
     "execution_count": 2,
     "metadata": {},
     "output_type": "execute_result"
    }
   ],
   "source": [
    "path_participants = 'D:/数据迁移/TUD/VCP/VAST-Challenge-2022/Datasets/Attributes'\n",
    "participants = pd.read_csv('./Participants.csv')\n",
    "participants.head()\n",
    "\n"
   ]
  },
  {
   "cell_type": "code",
   "execution_count": 3,
   "metadata": {},
   "outputs": [
    {
     "data": {
      "text/html": [
       "<div>\n",
       "<style scoped>\n",
       "    .dataframe tbody tr th:only-of-type {\n",
       "        vertical-align: middle;\n",
       "    }\n",
       "\n",
       "    .dataframe tbody tr th {\n",
       "        vertical-align: top;\n",
       "    }\n",
       "\n",
       "    .dataframe thead th {\n",
       "        text-align: right;\n",
       "    }\n",
       "</style>\n",
       "<table border=\"1\" class=\"dataframe\">\n",
       "  <thead>\n",
       "    <tr style=\"text-align: right;\">\n",
       "      <th></th>\n",
       "      <th>participantId</th>\n",
       "      <th>householdSize</th>\n",
       "      <th>age</th>\n",
       "      <th>joviality</th>\n",
       "    </tr>\n",
       "  </thead>\n",
       "  <tbody>\n",
       "    <tr>\n",
       "      <th>count</th>\n",
       "      <td>1011.000000</td>\n",
       "      <td>1011.000000</td>\n",
       "      <td>1011.000000</td>\n",
       "      <td>1011.000000</td>\n",
       "    </tr>\n",
       "    <tr>\n",
       "      <th>mean</th>\n",
       "      <td>505.000000</td>\n",
       "      <td>1.964392</td>\n",
       "      <td>39.074184</td>\n",
       "      <td>0.493794</td>\n",
       "    </tr>\n",
       "    <tr>\n",
       "      <th>std</th>\n",
       "      <td>291.994863</td>\n",
       "      <td>0.793986</td>\n",
       "      <td>12.379296</td>\n",
       "      <td>0.291351</td>\n",
       "    </tr>\n",
       "    <tr>\n",
       "      <th>min</th>\n",
       "      <td>0.000000</td>\n",
       "      <td>1.000000</td>\n",
       "      <td>18.000000</td>\n",
       "      <td>0.000204</td>\n",
       "    </tr>\n",
       "    <tr>\n",
       "      <th>25%</th>\n",
       "      <td>252.500000</td>\n",
       "      <td>1.000000</td>\n",
       "      <td>29.000000</td>\n",
       "      <td>0.240074</td>\n",
       "    </tr>\n",
       "    <tr>\n",
       "      <th>50%</th>\n",
       "      <td>505.000000</td>\n",
       "      <td>2.000000</td>\n",
       "      <td>39.000000</td>\n",
       "      <td>0.477539</td>\n",
       "    </tr>\n",
       "    <tr>\n",
       "      <th>75%</th>\n",
       "      <td>757.500000</td>\n",
       "      <td>3.000000</td>\n",
       "      <td>50.000000</td>\n",
       "      <td>0.746819</td>\n",
       "    </tr>\n",
       "    <tr>\n",
       "      <th>max</th>\n",
       "      <td>1010.000000</td>\n",
       "      <td>3.000000</td>\n",
       "      <td>60.000000</td>\n",
       "      <td>0.999234</td>\n",
       "    </tr>\n",
       "  </tbody>\n",
       "</table>\n",
       "</div>"
      ],
      "text/plain": [
       "       participantId  householdSize          age    joviality\n",
       "count    1011.000000    1011.000000  1011.000000  1011.000000\n",
       "mean      505.000000       1.964392    39.074184     0.493794\n",
       "std       291.994863       0.793986    12.379296     0.291351\n",
       "min         0.000000       1.000000    18.000000     0.000204\n",
       "25%       252.500000       1.000000    29.000000     0.240074\n",
       "50%       505.000000       2.000000    39.000000     0.477539\n",
       "75%       757.500000       3.000000    50.000000     0.746819\n",
       "max      1010.000000       3.000000    60.000000     0.999234"
      ]
     },
     "execution_count": 3,
     "metadata": {},
     "output_type": "execute_result"
    }
   ],
   "source": [
    "participants.describe()"
   ]
  },
  {
   "cell_type": "code",
   "execution_count": 4,
   "metadata": {},
   "outputs": [
    {
     "data": {
      "text/plain": [
       "count    1011.000000\n",
       "mean       39.074184\n",
       "std        12.379296\n",
       "min        18.000000\n",
       "25%        29.000000\n",
       "50%        39.000000\n",
       "75%        50.000000\n",
       "max        60.000000\n",
       "Name: age, dtype: float64"
      ]
     },
     "execution_count": 4,
     "metadata": {},
     "output_type": "execute_result"
    }
   ],
   "source": [
    "participants.age.describe()"
   ]
  },
  {
   "cell_type": "code",
   "execution_count": 5,
   "metadata": {},
   "outputs": [
    {
     "data": {
      "text/plain": [
       "pandas.core.series.Series"
      ]
     },
     "execution_count": 5,
     "metadata": {},
     "output_type": "execute_result"
    }
   ],
   "source": [
    "type(participants.age)"
   ]
  },
  {
   "cell_type": "code",
   "execution_count": 28,
   "metadata": {},
   "outputs": [
    {
     "data": {
      "text/plain": [
       "array([18., 25., 32., 39., 46., 53., 60.])"
      ]
     },
     "execution_count": 28,
     "metadata": {},
     "output_type": "execute_result"
    }
   ],
   "source": [
    "np.linspace(18,60,7)"
   ]
  },
  {
   "cell_type": "code",
   "execution_count": 96,
   "metadata": {},
   "outputs": [
    {
     "name": "stdout",
     "output_type": "stream",
     "text": [
      "[18, 25)    165\n",
      "[25, 32)    171\n",
      "[32, 39)    165\n",
      "[39, 46)    152\n",
      "[46, 53)    170\n",
      "[53, 61)    188\n",
      "Name: age, dtype: int64\n"
     ]
    }
   ],
   "source": [
    "age_num = []\n",
    "bins=[18,25,32,39,46,53,61]\n",
    "# Discretized data by segment\n",
    "segments=pd.cut(participants.age, bins, right=False)\n",
    "# Counte the number of people in each section\n",
    "counts=pd.value_counts(segments,sort=False)\n",
    "print(counts)"
   ]
  },
  {
   "cell_type": "code",
   "execution_count": 121,
   "metadata": {},
   "outputs": [
    {
     "data": {
      "image/png": "[encoded data removed]",
      "text/plain": [
       "<Figure size 1600x640 with 1 Axes>"
      ]
     },
     "metadata": {
      "needs_background": "light"
     },
     "output_type": "display_data"
    },
    {
     "data": {
      "image/png": "[encoded data removed]",
      "text/plain": [
       "<Figure size 1440x216 with 1 Axes>"
      ]
     },
     "metadata": {
      "needs_background": "light"
     },
     "output_type": "display_data"
    }
   ],
   "source": [
    "import matplotlib as mpl\n",
    "import json\n",
    "age_num = []\n",
    "bins=[18,25,32,39,46,53,61]\n",
    "# Discretized data by segment\n",
    "segments=pd.cut(participants.age, bins, right=False)\n",
    "# Counte the number of people in each section\n",
    "counts=pd.value_counts(segments,sort=False)\n",
    "labels = ['18-24', '25-31', '32-38', '39-45', '46-52','53-60']\n",
    "\n",
    "colors = ['pink', 'lightcoral', 'indianred', 'firebrick', 'darkred', 'maroon']\n",
    "# plot\n",
    "plt.figure(figsize=(20, 8), dpi=80)\n",
    "plt.title(\"Distribution of Age\")\n",
    "plt.ylabel(\"Number\")\n",
    "plt.xlabel(\"Age Groups\")\n",
    "#plt.grid(linestyle=\"--\", alpha=1)\n",
    "b=plt.bar(labels,counts,color=colors)\n",
    "plt.show()\n",
    "\n",
    "fig, ax = plt.subplots(figsize=(20, 3))\n",
    "fig.subplots_adjust(bottom=0.5)\n",
    "cmap = mpl.colors.ListedColormap(colors)\n",
    "bounds = [1, 2, 3, 4, 5, 6, 7]\n",
    "norm = mpl.colors.BoundaryNorm(bounds, cmap.N)\n",
    "fig.colorbar(\n",
    "    mpl.cm.ScalarMappable(cmap=cmap, norm=norm),\n",
    "    cax=ax,\n",
    "    boundaries=[0] + bounds + [13],  # Adding values for extensions.\n",
    "    extend='both',\n",
    "    ticks=bounds,\n",
    "    spacing='proportional',\n",
    "    orientation='horizontal',\n",
    "    label='Color bars for different age groups',\n",
    ")\n",
    "\n",
    "rgb_values = []\n",
    "for color in colors:\n",
    "    rgb_values.append(mpl.colors.to_rgb(color))\n",
    "rgb_values\n",
    "\n",
    "age_rbg_dir = {'18-24':[1.0, 0.7529411764705882, 0.796078431372549],\n",
    "                '25-31':[0.9411764705882353, 0.5019607843137255, 0.5019607843137255],\n",
    "                '32-38':[0.803921568627451, 0.3607843137254902, 0.3607843137254902],\n",
    "                '39-45':[0.6980392156862745, 0.13333333333333333, 0.13333333333333333],\n",
    "                '46-52':[0.5450980392156862, 0.0, 0.0],\n",
    "                '53-60':[0.5019607843137255, 0.0, 0.0]}\n",
    "age_rbg_json = json.dumps(age_rbg_dir)\n"
   ]
  },
  {
   "cell_type": "code",
   "execution_count": 188,
   "metadata": {},
   "outputs": [
    {
     "data": {
      "image/png": "[encoded data removed]",
      "text/plain": [
       "<Figure size 1600x640 with 1 Axes>"
      ]
     },
     "metadata": {
      "needs_background": "light"
     },
     "output_type": "display_data"
    }
   ],
   "source": [
    "i = 18\n",
    "joviality_mean = []\n",
    "while(i <= 46):\n",
    "    age_interval =  (i <= participants.age) & (participants.age <= i + 6)\n",
    "    joviality = participants[(age_interval)]['joviality']\n",
    "    mean = joviality.mean()\n",
    "    joviality_mean.append(mean)\n",
    "    i += 7\n",
    "\n",
    "joviality_mean.append(participants[(53 >= participants.age) & (participants.age <= 60)]['joviality'].mean())\n",
    "joviality_mean = np.asarray(joviality_mean)\n",
    "labels = ['18-24', '25-31', '32-38', '39-45', '46-52','53-60']\n",
    "\n",
    "# plot\n",
    "plt.figure(figsize=(20, 8), dpi=80)\n",
    "plt.title(\"Joviality in different Age Groups\")\n",
    "plt.ylabel(\"Joviality Values\")\n",
    "plt.xlabel(\"Age Groups\")\n",
    "#plt.grid(linestyle=\"--\", alpha=1)\n",
    "b=plt.bar(labels,joviality_mean)\n",
    "plt.show()\n"
   ]
  },
  {
   "cell_type": "code",
   "execution_count": 75,
   "metadata": {},
   "outputs": [
    {
     "data": {
      "image/png": "[encoded data removed]",
      "text/plain": [
       "<Figure size 1600x640 with 1 Axes>"
      ]
     },
     "metadata": {
      "needs_background": "light"
     },
     "output_type": "display_data"
    }
   ],
   "source": [
    "# Distribution of age\n",
    "# 1. data: participants.age\n",
    "# 2. canvas\n",
    "plt.figure(figsize=(20, 8), dpi=80)\n",
    "\n",
    "# 3、plot histogramm\n",
    "distance = 7\n",
    "group_num = int((max(participants.age) - min(participants.age)) / distance)\n",
    "plt.hist(participants.age, bins=group_num, density=True)\n",
    "\n",
    "# sticks, label, title, grid\n",
    "plt.xticks(range(min(participants.age), max(participants.age) + 2, distance))\n",
    "plt.title(\"Distribution of Age\")\n",
    "plt.xlabel(\"Age\")\n",
    "plt.ylabel(\"Percentage\")\n",
    "plt.grid(linestyle=\"--\", alpha=0.5)\n",
    "\n",
    "plt.show()"
   ]
  },
  {
   "cell_type": "code",
   "execution_count": 10,
   "metadata": {},
   "outputs": [
    {
     "data": {
      "text/plain": [
       "count    1011.000000\n",
       "mean        0.493794\n",
       "std         0.291351\n",
       "min         0.000204\n",
       "25%         0.240074\n",
       "50%         0.477539\n",
       "75%         0.746819\n",
       "max         0.999234\n",
       "Name: joviality, dtype: float64"
      ]
     },
     "execution_count": 10,
     "metadata": {},
     "output_type": "execute_result"
    }
   ],
   "source": [
    "participants.joviality.describe()"
   ]
  },
  {
   "cell_type": "code",
   "execution_count": 11,
   "metadata": {},
   "outputs": [
    {
     "data": {
      "image/png": "[encoded data removed]",
      "text/plain": [
       "<Figure size 1600x640 with 1 Axes>"
      ]
     },
     "metadata": {
      "needs_background": "light"
     },
     "output_type": "display_data"
    }
   ],
   "source": [
    "# Distribution of joviality\n",
    "# 1. data: participants.joviality\n",
    "# 2. canvas\n",
    "plt.figure(figsize=(20, 8), dpi=80)\n",
    "\n",
    "# 3、plot histogramm\n",
    "distance = 0.01\n",
    "group_num = int((max(participants.joviality) - min(participants.joviality)) / distance)\n",
    "plt.hist(participants.joviality, bins=group_num, density=True)\n",
    "\n",
    "# ticks, labels, title, grid\n",
    "plt.xticks(np.linspace(0,1,9))\n",
    "plt.yticks(np.linspace(0,2,9))\n",
    "plt.title(\"Distribution of joviality\")\n",
    "plt.xlabel(\"joviality\")\n",
    "plt.ylabel(\"Percentage\")\n",
    "plt.grid(linestyle=\"--\", alpha=0.5)\n",
    "\n",
    "plt.show()"
   ]
  },
  {
   "cell_type": "code",
   "execution_count": 182,
   "metadata": {},
   "outputs": [
    {
     "name": "stdout",
     "output_type": "stream",
     "text": [
      "0       HighSchoolOrCollege\n",
      "1       HighSchoolOrCollege\n",
      "2       HighSchoolOrCollege\n",
      "3       HighSchoolOrCollege\n",
      "4                 Bachelors\n",
      "               ...         \n",
      "1006    HighSchoolOrCollege\n",
      "1007    HighSchoolOrCollege\n",
      "1008               Graduate\n",
      "1009                    Low\n",
      "1010    HighSchoolOrCollege\n",
      "Name: educationLevel, Length: 1011, dtype: object\n"
     ]
    }
   ],
   "source": [
    "print(participants.educationLevel)\n"
   ]
  },
  {
   "cell_type": "code",
   "execution_count": 13,
   "metadata": {},
   "outputs": [
    {
     "data": {
      "text/html": [
       "<div>\n",
       "<style scoped>\n",
       "    .dataframe tbody tr th:only-of-type {\n",
       "        vertical-align: middle;\n",
       "    }\n",
       "\n",
       "    .dataframe tbody tr th {\n",
       "        vertical-align: top;\n",
       "    }\n",
       "\n",
       "    .dataframe thead th {\n",
       "        text-align: right;\n",
       "    }\n",
       "</style>\n",
       "<table border=\"1\" class=\"dataframe\">\n",
       "  <thead>\n",
       "    <tr style=\"text-align: right;\">\n",
       "      <th></th>\n",
       "      <th>educationLevel</th>\n",
       "      <th>age</th>\n",
       "    </tr>\n",
       "  </thead>\n",
       "  <tbody>\n",
       "    <tr>\n",
       "      <th>0</th>\n",
       "      <td>HighSchoolOrCollege</td>\n",
       "      <td>36</td>\n",
       "    </tr>\n",
       "    <tr>\n",
       "      <th>1</th>\n",
       "      <td>HighSchoolOrCollege</td>\n",
       "      <td>25</td>\n",
       "    </tr>\n",
       "    <tr>\n",
       "      <th>2</th>\n",
       "      <td>HighSchoolOrCollege</td>\n",
       "      <td>35</td>\n",
       "    </tr>\n",
       "    <tr>\n",
       "      <th>3</th>\n",
       "      <td>HighSchoolOrCollege</td>\n",
       "      <td>21</td>\n",
       "    </tr>\n",
       "    <tr>\n",
       "      <th>4</th>\n",
       "      <td>Bachelors</td>\n",
       "      <td>43</td>\n",
       "    </tr>\n",
       "    <tr>\n",
       "      <th>...</th>\n",
       "      <td>...</td>\n",
       "      <td>...</td>\n",
       "    </tr>\n",
       "    <tr>\n",
       "      <th>1006</th>\n",
       "      <td>HighSchoolOrCollege</td>\n",
       "      <td>19</td>\n",
       "    </tr>\n",
       "    <tr>\n",
       "      <th>1007</th>\n",
       "      <td>HighSchoolOrCollege</td>\n",
       "      <td>40</td>\n",
       "    </tr>\n",
       "    <tr>\n",
       "      <th>1008</th>\n",
       "      <td>Graduate</td>\n",
       "      <td>23</td>\n",
       "    </tr>\n",
       "    <tr>\n",
       "      <th>1009</th>\n",
       "      <td>Low</td>\n",
       "      <td>39</td>\n",
       "    </tr>\n",
       "    <tr>\n",
       "      <th>1010</th>\n",
       "      <td>HighSchoolOrCollege</td>\n",
       "      <td>52</td>\n",
       "    </tr>\n",
       "  </tbody>\n",
       "</table>\n",
       "<p>1011 rows × 2 columns</p>\n",
       "</div>"
      ],
      "text/plain": [
       "           educationLevel  age\n",
       "0     HighSchoolOrCollege   36\n",
       "1     HighSchoolOrCollege   25\n",
       "2     HighSchoolOrCollege   35\n",
       "3     HighSchoolOrCollege   21\n",
       "4               Bachelors   43\n",
       "...                   ...  ...\n",
       "1006  HighSchoolOrCollege   19\n",
       "1007  HighSchoolOrCollege   40\n",
       "1008             Graduate   23\n",
       "1009                  Low   39\n",
       "1010  HighSchoolOrCollege   52\n",
       "\n",
       "[1011 rows x 2 columns]"
      ]
     },
     "execution_count": 13,
     "metadata": {},
     "output_type": "execute_result"
    }
   ],
   "source": [
    "\n",
    "#age_edu = participants.groupby('educationLevel')['age'].value_counts()\n",
    "#less_than_zero = list(filter(lambda x: x < 0, number_list))\n",
    "age_edu = participants.loc[:, ['educationLevel','age']]\n",
    "age_edu"
   ]
  },
  {
   "cell_type": "code",
   "execution_count": 185,
   "metadata": {},
   "outputs": [
    {
     "name": "stderr",
     "output_type": "stream",
     "text": [
      "No handles with labels found to put in legend.\n"
     ]
    },
    {
     "data": {
      "image/png": "[encoded data removed]",
      "text/plain": [
       "<Figure size 1600x640 with 1 Axes>"
      ]
     },
     "metadata": {
      "needs_background": "light"
     },
     "output_type": "display_data"
    }
   ],
   "source": [
    "# 1.data\n",
    "# get all the catagories of one column, educationLevel as example \n",
    "education_level = participants.groupby(by = 'educationLevel')\n",
    "education_level_num = participants.educationLevel.value_counts()\n",
    "education_level_labels = education_level_num.keys()\n",
    "# 2.bar plot\n",
    "plt.figure(figsize=(20, 8), dpi=80)\n",
    "x_ticks = range(len(education_level_labels))\n",
    "plt.bar(x_ticks, education_level_num)\n",
    "\n",
    "# 3.ticks, labels, title, grid\n",
    "plt.xticks(x_ticks, education_level_labels)\n",
    "plt.ylabel('number')\n",
    "plt.title(\"educationLevel\")\n",
    "#plt.grid(linestyle=\"--\", alpha=0.2)\n",
    "plt.legend()\n",
    "plt.show()"
   ]
  },
  {
   "cell_type": "code",
   "execution_count": 184,
   "metadata": {},
   "outputs": [
    {
     "data": {
      "text/plain": [
       "['Bachelors', 'Graduate', 'HighSchoolOrCollege', 'Low']"
      ]
     },
     "execution_count": 184,
     "metadata": {},
     "output_type": "execute_result"
    }
   ],
   "source": [
    "educationLevel = participants.groupby(by = 'educationLevel')\n",
    "educationLevel_list = list(educationLevel.groups.keys())\n",
    "educationLevel_list"
   ]
  },
  {
   "cell_type": "markdown",
   "metadata": {},
   "source": [
    "relationship between age and educational level"
   ]
  },
  {
   "cell_type": "code",
   "execution_count": 126,
   "metadata": {},
   "outputs": [
    {
     "data": {
      "text/plain": [
       "HighSchoolOrCollege    525\n",
       "Bachelors              232\n",
       "Graduate               170\n",
       "Low                     84\n",
       "Name: educationLevel, dtype: int64"
      ]
     },
     "execution_count": 126,
     "metadata": {},
     "output_type": "execute_result"
    }
   ],
   "source": [
    "educationLevel = participants.groupby(by = 'educationLevel')\n",
    "educationLevel_list = list(educationLevel.groups.keys())\n",
    "educationLevel_num = participants.educationLevel.value_counts()\n",
    "educationLevel_num"
   ]
  },
  {
   "cell_type": "markdown",
   "metadata": {},
   "source": []
  },
  {
   "cell_type": "code",
   "execution_count": 221,
   "metadata": {},
   "outputs": [
    {
     "data": {
      "image/png": "[encoded data removed]",
      "text/plain": [
       "<Figure size 1440x576 with 2 Axes>"
      ]
     },
     "metadata": {
      "needs_background": "light"
     },
     "output_type": "display_data"
    }
   ],
   "source": [
    "# Demographic data processing\n",
    "\n",
    "import pandas as pd\n",
    "import matplotlib as mpl\n",
    "import matplotlib.pyplot as plt\n",
    "import numpy as np\n",
    "import sys\n",
    "import json\n",
    "\n",
    "file_name = 'Participants.csv'\n",
    "path = 'D:/数据迁移/TUD/VCP/VAST-Challenge-2022/Datasets/Attributes/' + file_name\n",
    "participants = pd.read_csv(path)\n",
    "participants.head()\n",
    "\n",
    "# prepare data for educational level in different age groups\n",
    "i = 18\n",
    "education_level_nums = []\n",
    "labels = ['18-24', '25-31', '32-38', '39-45', '46-52','53-60']\n",
    "while(i <= 46):\n",
    "    age_interval =  (i <= participants.age) & (participants.age <= i + 6)\n",
    "    education_level_num = participants[(age_interval)].educationLevel.value_counts()\n",
    "    education_level_nums.append(education_level_num)\n",
    "    i += 7\n",
    "\n",
    "education_level_num_53to60 = participants[(participants.age >= 53) & (participants.age <= 60)].educationLevel.value_counts()\n",
    "education_level_nums.append(education_level_num_53to60)\n",
    "education_level_nums\n",
    "high_school = []\n",
    "bachelors = []\n",
    "graduate = []\n",
    "low = []\n",
    "\n",
    "i = 0\n",
    "while(i<6):\n",
    "    temp=education_level_nums[i]\n",
    "    high_school.append(temp[0])\n",
    "    bachelors.append(temp[1])\n",
    "    graduate.append(temp[2])\n",
    "    low.append(temp[3])\n",
    "    i += 1\n",
    "\n",
    "# prepare data for joviality in different age groups\n",
    "i = 18\n",
    "joviality_mean = []\n",
    "while(i <= 46):\n",
    "    age_interval =  (i <= participants.age) & (participants.age <= i + 6)\n",
    "    joviality = participants[(age_interval)]['joviality']\n",
    "    mean = joviality.mean()\n",
    "    joviality_mean.append(mean)\n",
    "    i += 7\n",
    "\n",
    "joviality_mean.append(participants[(53 >= participants.age) & (participants.age <= 60)]['joviality'].mean())\n",
    "joviality_mean = np.asarray(joviality_mean)\n",
    "\n",
    "\n",
    "# plot \n",
    "labels = ['18-24', '25-31', '32-38', '39-45', '46-52','53-60']\n",
    "fig, ax = plt.subplots(ncols=2, sharey=True, figsize= (20,8))\n",
    "y = range(0, 6)\n",
    "\n",
    "ax[1].barh(y, high_school,align='center',label='HighSchoolOrCollege')\n",
    "ax[1].barh(y, bachelors,left=high_school, label='Bachelors')\n",
    "ax[1].barh(y, graduate,left=(np.array(high_school)+np.array(bachelors)), label='Graduate')\n",
    "ax[1].barh(y, graduate,left=(np.array(high_school)+np.array(bachelors)+np.array(graduate)), label='Low', color='m')\n",
    "ax[1].set_title('Educational Level')\n",
    "ax[1].legend()\n",
    "ax[1].grid()\n",
    "\n",
    "ax[0].set_title(\"Joviality Values\")\n",
    "ax[0].set_ylabel(\"Age Groups\")\n",
    "ax[0].barh(y,joviality_mean,color='purple')\n",
    "ax[0].set(yticks=y, yticklabels = labels)\n",
    "ax[0].invert_xaxis()\n",
    "ax[0].grid()\n",
    "title = 'Javiality Values and Educational Level in different Age Groups'\n",
    "plt.figtext(.5,.9, title, fontsize=15, ha='center')\n",
    "plt.show()\n",
    "\n",
    "\n",
    "\n"
   ]
  },
  {
   "cell_type": "code",
   "execution_count": 186,
   "metadata": {},
   "outputs": [
    {
     "name": "stderr",
     "output_type": "stream",
     "text": [
      "No handles with labels found to put in legend.\n"
     ]
    },
    {
     "data": {
      "image/png": "[encoded data removed]",
      "text/plain": [
       "<Figure size 432x288 with 1 Axes>"
      ]
     },
     "metadata": {
      "needs_background": "light"
     },
     "output_type": "display_data"
    }
   ],
   "source": [
    "import matplotlib.pyplot as plt\n",
    "i = 18\n",
    "education_level_nums = []\n",
    "while(i <= 46):\n",
    "    age_interval =  (i >= participants.age) & (participants.age <= i + 6)\n",
    "    education_level_num = participants[(age_interval)].educationLevel.value_counts()\n",
    "    education_level_nums.append(education_level_num)\n",
    "    i += 6\n",
    "\n",
    "education_level_num_53to60 = participants[(i >= 53) & (participants.age <= 60)].educationLevel.value_counts()\n",
    "education_level_nums.append(education_level_num_53to60)\n",
    "labels = ['18-24', '25-31', '32-38', '39-45', '46-52','53-60']\n",
    "high_school = []\n",
    "\n",
    "\n",
    "\n",
    "labels = ['G1', 'G2', 'G3', 'G4', 'G5']\n",
    "\n",
    "\n",
    "\n",
    "men_means = np.array([20, 35, 30, 35, 27])\n",
    "women_means = np.array([25, 32, 34, 20, 25])\n",
    "mix_means = [25, 32, 34, 20, 25]\n",
    "w_and_m = [45,67,64,55,52]\n",
    "\n",
    "\n",
    "width = 0.35       # the width of the bars: can also be len(x) sequence\n",
    "\n",
    "fig, ax = plt.subplots()\n",
    "\n",
    "ax.barh(labels, men_means,align='center')\n",
    "ax.barh(labels, women_means,left=men_means)\n",
    "ax.barh(labels, mix_means,left=(men_means+women_means))\n",
    "ax.set_ylabel('Scores')\n",
    "ax.set_title('Scores by group and gender')\n",
    "ax.legend()\n",
    "\n",
    "plt.show()"
   ]
  },
  {
   "cell_type": "code",
   "execution_count": 74,
   "metadata": {},
   "outputs": [
    {
     "name": "stderr",
     "output_type": "stream",
     "text": [
      "No handles with labels found to put in legend.\n"
     ]
    },
    {
     "data": {
      "image/png": "[encoded data removed]",
      "text/plain": [
       "<Figure size 480x640 with 1 Axes>"
      ]
     },
     "metadata": {
      "needs_background": "light"
     },
     "output_type": "display_data"
    }
   ],
   "source": [
    "# 1.data\n",
    "# get all the catagories of one column, educationLevel as example \n",
    "have_kids = participants.groupby(by = 'haveKids')\n",
    "#have_kids_list = list(have_kids.groups.keys())\n",
    "have_kids_num = participants.haveKids.value_counts()\n",
    "\n",
    "# 2.bar plot\n",
    "plt.figure(figsize=(6, 8), dpi=80)\n",
    "x_ticks = range(len(have_kids))\n",
    "plt.bar(x_ticks, have_kids_num)\n",
    "\n",
    "# 3.ticks, labels, title, grid\n",
    "\n",
    "plt.xticks(x_ticks, ['Yes', 'No'])\n",
    "plt.ylabel('number')\n",
    "plt.title(\"People have kids or not\")\n",
    "#plt.grid(linestyle=\"--\", alpha=0.2)\n",
    "plt.legend()\n",
    "plt.show()"
   ]
  },
  {
   "cell_type": "code",
   "execution_count": 123,
   "metadata": {},
   "outputs": [
    {
     "name": "stderr",
     "output_type": "stream",
     "text": [
      "No handles with labels found to put in legend.\n"
     ]
    },
    {
     "data": {
      "image/png": "[encoded data removed]",
      "text/plain": [
       "<Figure size 960x640 with 1 Axes>"
      ]
     },
     "metadata": {
      "needs_background": "light"
     },
     "output_type": "display_data"
    }
   ],
   "source": [
    "# 1.data\n",
    "# get all the catagories of one column, educationLevel as example \n",
    "interest_group = participants.groupby(by = 'interestGroup')\n",
    "interest_group_list = list(interest_group.groups.keys())\n",
    "interest_group_num = participants.interestGroup.value_counts()\n",
    "\n",
    "# 2.bar plot\n",
    "plt.figure(figsize=(12, 8), dpi=80)\n",
    "x_ticks = range(len(interest_group))\n",
    "plt.bar(x_ticks, interest_group_num)\n",
    "\n",
    "# 3.ticks, labels, title, grid\n",
    "\n",
    "plt.xticks(x_ticks, interest_group_list)\n",
    "plt.xlabel('Interest Groups')\n",
    "plt.ylabel('Number of People')\n",
    "plt.title(\"Distribution of Interest Groups\")\n",
    "#plt.grid(linestyle=\"--\", alpha=0.2)\n",
    "plt.legend()\n",
    "plt.show()"
   ]
  },
  {
   "cell_type": "markdown",
   "metadata": {},
   "source": [
    "relationship between interest groups and age"
   ]
  },
  {
   "cell_type": "code",
   "execution_count": 55,
   "metadata": {},
   "outputs": [
    {
     "ename": "ValueError",
     "evalue": "shape mismatch: objects cannot be broadcast to a single shape",
     "output_type": "error",
     "traceback": [
      "\u001b[1;31m---------------------------------------------------------------------------\u001b[0m",
      "\u001b[1;31mValueError\u001b[0m                                Traceback (most recent call last)",
      "\u001b[1;32m<ipython-input-55-a9afa181a99a>\u001b[0m in \u001b[0;36m<module>\u001b[1;34m\u001b[0m\n\u001b[0;32m     11\u001b[0m \u001b[0mfig\u001b[0m\u001b[1;33m,\u001b[0m \u001b[0max\u001b[0m \u001b[1;33m=\u001b[0m \u001b[0mplt\u001b[0m\u001b[1;33m.\u001b[0m\u001b[0msubplots\u001b[0m\u001b[1;33m(\u001b[0m\u001b[1;33m)\u001b[0m\u001b[1;33m\u001b[0m\u001b[1;33m\u001b[0m\u001b[0m\n\u001b[0;32m     12\u001b[0m \u001b[1;33m\u001b[0m\u001b[0m\n\u001b[1;32m---> 13\u001b[1;33m \u001b[0max\u001b[0m\u001b[1;33m.\u001b[0m\u001b[0mbar\u001b[0m\u001b[1;33m(\u001b[0m\u001b[0mlabels\u001b[0m\u001b[1;33m,\u001b[0m \u001b[0mmen_means\u001b[0m\u001b[1;33m,\u001b[0m \u001b[0mwidth\u001b[0m\u001b[1;33m,\u001b[0m \u001b[0myerr\u001b[0m\u001b[1;33m=\u001b[0m\u001b[0mmen_std\u001b[0m\u001b[1;33m,\u001b[0m \u001b[0mlabel\u001b[0m\u001b[1;33m=\u001b[0m\u001b[1;34m'Men'\u001b[0m\u001b[1;33m)\u001b[0m\u001b[1;33m\u001b[0m\u001b[1;33m\u001b[0m\u001b[0m\n\u001b[0m\u001b[0;32m     14\u001b[0m ax.bar(labels, women_means, width, yerr=women_std, bottom=men_means,\n\u001b[0;32m     15\u001b[0m        label='Women')\n",
      "\u001b[1;32mD:\\Anaconda3\\lib\\site-packages\\matplotlib\\__init__.py\u001b[0m in \u001b[0;36minner\u001b[1;34m(ax, data, *args, **kwargs)\u001b[0m\n\u001b[0;32m   1436\u001b[0m     \u001b[1;32mdef\u001b[0m \u001b[0minner\u001b[0m\u001b[1;33m(\u001b[0m\u001b[0max\u001b[0m\u001b[1;33m,\u001b[0m \u001b[1;33m*\u001b[0m\u001b[0margs\u001b[0m\u001b[1;33m,\u001b[0m \u001b[0mdata\u001b[0m\u001b[1;33m=\u001b[0m\u001b[1;32mNone\u001b[0m\u001b[1;33m,\u001b[0m \u001b[1;33m**\u001b[0m\u001b[0mkwargs\u001b[0m\u001b[1;33m)\u001b[0m\u001b[1;33m:\u001b[0m\u001b[1;33m\u001b[0m\u001b[1;33m\u001b[0m\u001b[0m\n\u001b[0;32m   1437\u001b[0m         \u001b[1;32mif\u001b[0m \u001b[0mdata\u001b[0m \u001b[1;32mis\u001b[0m \u001b[1;32mNone\u001b[0m\u001b[1;33m:\u001b[0m\u001b[1;33m\u001b[0m\u001b[1;33m\u001b[0m\u001b[0m\n\u001b[1;32m-> 1438\u001b[1;33m             \u001b[1;32mreturn\u001b[0m \u001b[0mfunc\u001b[0m\u001b[1;33m(\u001b[0m\u001b[0max\u001b[0m\u001b[1;33m,\u001b[0m \u001b[1;33m*\u001b[0m\u001b[0mmap\u001b[0m\u001b[1;33m(\u001b[0m\u001b[0msanitize_sequence\u001b[0m\u001b[1;33m,\u001b[0m \u001b[0margs\u001b[0m\u001b[1;33m)\u001b[0m\u001b[1;33m,\u001b[0m \u001b[1;33m**\u001b[0m\u001b[0mkwargs\u001b[0m\u001b[1;33m)\u001b[0m\u001b[1;33m\u001b[0m\u001b[1;33m\u001b[0m\u001b[0m\n\u001b[0m\u001b[0;32m   1439\u001b[0m \u001b[1;33m\u001b[0m\u001b[0m\n\u001b[0;32m   1440\u001b[0m         \u001b[0mbound\u001b[0m \u001b[1;33m=\u001b[0m \u001b[0mnew_sig\u001b[0m\u001b[1;33m.\u001b[0m\u001b[0mbind\u001b[0m\u001b[1;33m(\u001b[0m\u001b[0max\u001b[0m\u001b[1;33m,\u001b[0m \u001b[1;33m*\u001b[0m\u001b[0margs\u001b[0m\u001b[1;33m,\u001b[0m \u001b[1;33m**\u001b[0m\u001b[0mkwargs\u001b[0m\u001b[1;33m)\u001b[0m\u001b[1;33m\u001b[0m\u001b[1;33m\u001b[0m\u001b[0m\n",
      "\u001b[1;32mD:\\Anaconda3\\lib\\site-packages\\matplotlib\\axes\\_axes.py\u001b[0m in \u001b[0;36mbar\u001b[1;34m(self, x, height, width, bottom, align, **kwargs)\u001b[0m\n\u001b[0;32m   2428\u001b[0m                 \u001b[0myerr\u001b[0m \u001b[1;33m=\u001b[0m \u001b[0mself\u001b[0m\u001b[1;33m.\u001b[0m\u001b[0m_convert_dx\u001b[0m\u001b[1;33m(\u001b[0m\u001b[0myerr\u001b[0m\u001b[1;33m,\u001b[0m \u001b[0my0\u001b[0m\u001b[1;33m,\u001b[0m \u001b[0my\u001b[0m\u001b[1;33m,\u001b[0m \u001b[0mself\u001b[0m\u001b[1;33m.\u001b[0m\u001b[0mconvert_yunits\u001b[0m\u001b[1;33m)\u001b[0m\u001b[1;33m\u001b[0m\u001b[1;33m\u001b[0m\u001b[0m\n\u001b[0;32m   2429\u001b[0m \u001b[1;33m\u001b[0m\u001b[0m\n\u001b[1;32m-> 2430\u001b[1;33m         x, height, width, y, linewidth = np.broadcast_arrays(\n\u001b[0m\u001b[0;32m   2431\u001b[0m             \u001b[1;31m# Make args iterable too.\u001b[0m\u001b[1;33m\u001b[0m\u001b[1;33m\u001b[0m\u001b[1;33m\u001b[0m\u001b[0m\n\u001b[0;32m   2432\u001b[0m             np.atleast_1d(x), height, width, y, linewidth)\n",
      "\u001b[1;32m<__array_function__ internals>\u001b[0m in \u001b[0;36mbroadcast_arrays\u001b[1;34m(*args, **kwargs)\u001b[0m\n",
      "\u001b[1;32mD:\\Anaconda3\\lib\\site-packages\\numpy\\lib\\stride_tricks.py\u001b[0m in \u001b[0;36mbroadcast_arrays\u001b[1;34m(subok, *args)\u001b[0m\n\u001b[0;32m    256\u001b[0m     \u001b[0margs\u001b[0m \u001b[1;33m=\u001b[0m \u001b[1;33m[\u001b[0m\u001b[0mnp\u001b[0m\u001b[1;33m.\u001b[0m\u001b[0marray\u001b[0m\u001b[1;33m(\u001b[0m\u001b[0m_m\u001b[0m\u001b[1;33m,\u001b[0m \u001b[0mcopy\u001b[0m\u001b[1;33m=\u001b[0m\u001b[1;32mFalse\u001b[0m\u001b[1;33m,\u001b[0m \u001b[0msubok\u001b[0m\u001b[1;33m=\u001b[0m\u001b[0msubok\u001b[0m\u001b[1;33m)\u001b[0m \u001b[1;32mfor\u001b[0m \u001b[0m_m\u001b[0m \u001b[1;32min\u001b[0m \u001b[0margs\u001b[0m\u001b[1;33m]\u001b[0m\u001b[1;33m\u001b[0m\u001b[1;33m\u001b[0m\u001b[0m\n\u001b[0;32m    257\u001b[0m \u001b[1;33m\u001b[0m\u001b[0m\n\u001b[1;32m--> 258\u001b[1;33m     \u001b[0mshape\u001b[0m \u001b[1;33m=\u001b[0m \u001b[0m_broadcast_shape\u001b[0m\u001b[1;33m(\u001b[0m\u001b[1;33m*\u001b[0m\u001b[0margs\u001b[0m\u001b[1;33m)\u001b[0m\u001b[1;33m\u001b[0m\u001b[1;33m\u001b[0m\u001b[0m\n\u001b[0m\u001b[0;32m    259\u001b[0m \u001b[1;33m\u001b[0m\u001b[0m\n\u001b[0;32m    260\u001b[0m     \u001b[1;32mif\u001b[0m \u001b[0mall\u001b[0m\u001b[1;33m(\u001b[0m\u001b[0marray\u001b[0m\u001b[1;33m.\u001b[0m\u001b[0mshape\u001b[0m \u001b[1;33m==\u001b[0m \u001b[0mshape\u001b[0m \u001b[1;32mfor\u001b[0m \u001b[0marray\u001b[0m \u001b[1;32min\u001b[0m \u001b[0margs\u001b[0m\u001b[1;33m)\u001b[0m\u001b[1;33m:\u001b[0m\u001b[1;33m\u001b[0m\u001b[1;33m\u001b[0m\u001b[0m\n",
      "\u001b[1;32mD:\\Anaconda3\\lib\\site-packages\\numpy\\lib\\stride_tricks.py\u001b[0m in \u001b[0;36m_broadcast_shape\u001b[1;34m(*args)\u001b[0m\n\u001b[0;32m    187\u001b[0m     \u001b[1;31m# use the old-iterator because np.nditer does not handle size 0 arrays\u001b[0m\u001b[1;33m\u001b[0m\u001b[1;33m\u001b[0m\u001b[1;33m\u001b[0m\u001b[0m\n\u001b[0;32m    188\u001b[0m     \u001b[1;31m# consistently\u001b[0m\u001b[1;33m\u001b[0m\u001b[1;33m\u001b[0m\u001b[1;33m\u001b[0m\u001b[0m\n\u001b[1;32m--> 189\u001b[1;33m     \u001b[0mb\u001b[0m \u001b[1;33m=\u001b[0m \u001b[0mnp\u001b[0m\u001b[1;33m.\u001b[0m\u001b[0mbroadcast\u001b[0m\u001b[1;33m(\u001b[0m\u001b[1;33m*\u001b[0m\u001b[0margs\u001b[0m\u001b[1;33m[\u001b[0m\u001b[1;33m:\u001b[0m\u001b[1;36m32\u001b[0m\u001b[1;33m]\u001b[0m\u001b[1;33m)\u001b[0m\u001b[1;33m\u001b[0m\u001b[1;33m\u001b[0m\u001b[0m\n\u001b[0m\u001b[0;32m    190\u001b[0m     \u001b[1;31m# unfortunately, it cannot handle 32 or more arguments directly\u001b[0m\u001b[1;33m\u001b[0m\u001b[1;33m\u001b[0m\u001b[1;33m\u001b[0m\u001b[0m\n\u001b[0;32m    191\u001b[0m     \u001b[1;32mfor\u001b[0m \u001b[0mpos\u001b[0m \u001b[1;32min\u001b[0m \u001b[0mrange\u001b[0m\u001b[1;33m(\u001b[0m\u001b[1;36m32\u001b[0m\u001b[1;33m,\u001b[0m \u001b[0mlen\u001b[0m\u001b[1;33m(\u001b[0m\u001b[0margs\u001b[0m\u001b[1;33m)\u001b[0m\u001b[1;33m,\u001b[0m \u001b[1;36m31\u001b[0m\u001b[1;33m)\u001b[0m\u001b[1;33m:\u001b[0m\u001b[1;33m\u001b[0m\u001b[1;33m\u001b[0m\u001b[0m\n",
      "\u001b[1;31mValueError\u001b[0m: shape mismatch: objects cannot be broadcast to a single shape"
     ]
    },
    {
     "data": {
      "image/png": "[encoded data removed]",
      "text/plain": [
       "<Figure size 432x288 with 1 Axes>"
      ]
     },
     "metadata": {
      "needs_background": "light"
     },
     "output_type": "display_data"
    }
   ],
   "source": [
    "import matplotlib.pyplot as plt\n",
    "\n",
    "\n",
    "labels = ['18-23', '24-29', '30-35', '36-41', '42-47', '48-53','54-60']\n",
    "men_means = [20, 35, 30, 35, 27]\n",
    "women_means = [25, 32, 34, 20, 25]\n",
    "men_std = [2, 3, 4, 1, 2]\n",
    "women_std = [3, 5, 2, 3, 3]\n",
    "width = 0.35       # the width of the bars: can also be len(x) sequence\n",
    "\n",
    "fig, ax = plt.subplots()\n",
    "\n",
    "ax.bar(labels, men_means, width, yerr=men_std, label='Men')\n",
    "ax.bar(labels, women_means, width, yerr=women_std, bottom=men_means,\n",
    "       label='Women')\n",
    "\n",
    "ax.set_ylabel('Scores')\n",
    "ax.set_title('Scores by group and gender')\n",
    "ax.legend()\n",
    "\n",
    "plt.show()"
   ]
  },
  {
   "cell_type": "code",
   "execution_count": null,
   "metadata": {},
   "outputs": [
    {
     "ename": "ValueError",
     "evalue": "too many values to unpack (expected 4)",
     "output_type": "error",
     "traceback": [
      "\u001b[1;31m---------------------------------------------------------------------------\u001b[0m",
      "\u001b[1;31mValueError\u001b[0m                                Traceback (most recent call last)",
      "\u001b[1;32m<ipython-input-104-284528c34dfa>\u001b[0m in \u001b[0;36m<module>\u001b[1;34m\u001b[0m\n\u001b[0;32m     45\u001b[0m \u001b[1;33m\u001b[0m\u001b[0m\n\u001b[0;32m     46\u001b[0m \u001b[1;33m\u001b[0m\u001b[0m\n\u001b[1;32m---> 47\u001b[1;33m \u001b[0msurvey\u001b[0m\u001b[1;33m(\u001b[0m\u001b[0mresults\u001b[0m\u001b[1;33m,\u001b[0m \u001b[0mcategory_names\u001b[0m\u001b[1;33m)\u001b[0m\u001b[1;33m\u001b[0m\u001b[1;33m\u001b[0m\u001b[0m\n\u001b[0m\u001b[0;32m     48\u001b[0m \u001b[0mplt\u001b[0m\u001b[1;33m.\u001b[0m\u001b[0mshow\u001b[0m\u001b[1;33m(\u001b[0m\u001b[1;33m)\u001b[0m\u001b[1;33m\u001b[0m\u001b[1;33m\u001b[0m\u001b[0m\n",
      "\u001b[1;32m<ipython-input-104-284528c34dfa>\u001b[0m in \u001b[0;36msurvey\u001b[1;34m(results, category_names)\u001b[0m\n\u001b[0;32m     36\u001b[0m                         label=colname, color=color)\n\u001b[0;32m     37\u001b[0m \u001b[1;33m\u001b[0m\u001b[0m\n\u001b[1;32m---> 38\u001b[1;33m         \u001b[0mr\u001b[0m\u001b[1;33m,\u001b[0m \u001b[0mg\u001b[0m\u001b[1;33m,\u001b[0m \u001b[0mb\u001b[0m\u001b[1;33m,\u001b[0m \u001b[0m_\u001b[0m \u001b[1;33m=\u001b[0m \u001b[0mcolor\u001b[0m\u001b[1;33m\u001b[0m\u001b[1;33m\u001b[0m\u001b[0m\n\u001b[0m\u001b[0;32m     39\u001b[0m         \u001b[0mtext_color\u001b[0m \u001b[1;33m=\u001b[0m \u001b[1;34m'white'\u001b[0m \u001b[1;32mif\u001b[0m \u001b[0mr\u001b[0m \u001b[1;33m*\u001b[0m \u001b[0mg\u001b[0m \u001b[1;33m*\u001b[0m \u001b[0mb\u001b[0m \u001b[1;33m<\u001b[0m \u001b[1;36m0.5\u001b[0m \u001b[1;32melse\u001b[0m \u001b[1;34m'darkgrey'\u001b[0m\u001b[1;33m\u001b[0m\u001b[1;33m\u001b[0m\u001b[0m\n\u001b[0;32m     40\u001b[0m         \u001b[0max\u001b[0m\u001b[1;33m.\u001b[0m\u001b[0mbar_label\u001b[0m\u001b[1;33m(\u001b[0m\u001b[0mrects\u001b[0m\u001b[1;33m,\u001b[0m \u001b[0mlabel_type\u001b[0m\u001b[1;33m=\u001b[0m\u001b[1;34m'center'\u001b[0m\u001b[1;33m,\u001b[0m \u001b[0mcolor\u001b[0m\u001b[1;33m=\u001b[0m\u001b[0mtext_color\u001b[0m\u001b[1;33m)\u001b[0m\u001b[1;33m\u001b[0m\u001b[1;33m\u001b[0m\u001b[0m\n",
      "\u001b[1;31mValueError\u001b[0m: too many values to unpack (expected 4)"
     ]
    },
    {
     "data": {
      "image/png": "[encoded data removed]",
      "text/plain": [
       "<Figure size 662.4x360 with 1 Axes>"
      ]
     },
     "metadata": {
      "needs_background": "light"
     },
     "output_type": "display_data"
    }
   ],
   "source": [
    "category_names = ['Strongly disagree', 'Disagree',\n",
    "                  'Neither agree nor disagree', 'Agree', 'Strongly agree']\n",
    "results = {\n",
    "    'Question 1': [10, 15, 17, 32, 26]}\n",
    "\n",
    "\n",
    "def survey(results, category_names):\n",
    "    \"\"\"\n",
    "    Parameters\n",
    "    ----------\n",
    "    results : dict\n",
    "        A mapping from question labels to a list of answers per category.\n",
    "        It is assumed all lists contain the same number of entries and that\n",
    "        it matches the length of *category_names*.\n",
    "    category_names : list of str\n",
    "        The category labels.\n",
    "    \"\"\"\n",
    "    labels = list(results.keys())\n",
    "    data = np.array(list(results.values()))\n",
    "    data_cum = data.cumsum(axis=1)\n",
    "    category_colors = ['purple',\n",
    "                    'magenta',\n",
    "                    'fuchsia',\n",
    "                    'depppink',\n",
    "                    'orchid']\n",
    "\n",
    "    fig, ax = plt.subplots(figsize=(9.2, 5))\n",
    "    ax.invert_yaxis()\n",
    "    ax.xaxis.set_visible(False)\n",
    "    ax.set_xlim(0, np.sum(data, axis=1).max())\n",
    "\n",
    "    for i, (colname, color) in enumerate(zip(category_names, category_colors)):\n",
    "        widths = data[:, i]\n",
    "        starts = data_cum[:, i] - widths\n",
    "        rects = ax.barh(labels, widths, left=starts, height=0.5,\n",
    "                        label=colname, color=color)\n",
    "\n",
    "        r, g, b, _ = color\n",
    "        text_color = 'white' if r * g * b < 0.5 else 'darkgrey'\n",
    "        ax.bar_label(rects, label_type='center', color=text_color)\n",
    "    ax.legend(ncol=len(category_names), bbox_to_anchor=(0, 1),\n",
    "              loc='lower left', fontsize='small')\n",
    "\n",
    "    return fig, ax\n",
    "\n",
    "\n",
    "survey(results, category_names)\n",
    "plt.show()"
   ]
  },
  {
   "cell_type": "code",
   "execution_count": null,
   "metadata": {},
   "outputs": [],
   "source": []
  }
 ],
 "metadata": {
  "interpreter": {
   "hash": "a8b25837171899a4c01f08aac60ef6c85e8400d7934e280cdbe2b2afb93bb47d"
  },
  "kernelspec": {
   "display_name": "Python 3.9.4 ('vcp')",
   "language": "python",
   "name": "python3"
  },
  "language_info": {
   "codemirror_mode": {
    "name": "ipython",
    "version": 3
   },
   "file_extension": ".py",
   "mimetype": "text/x-python",
   "name": "python",
   "nbconvert_exporter": "python",
   "pygments_lexer": "ipython3",
   "version": "3.9.4"
  },
  "orig_nbformat": 4
 },
 "nbformat": 4,
 "nbformat_minor": 2
}
